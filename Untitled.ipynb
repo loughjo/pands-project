{
 "cells": [
  {
   "cell_type": "markdown",
   "id": "23dcbe06",
   "metadata": {},
   "source": [
    "# Iris Data Analysis Project"
   ]
  },
  {
   "cell_type": "code",
   "execution_count": null,
   "id": "ba32d9fc",
   "metadata": {},
   "outputs": [],
   "source": [
    "First of all before analyzing the data we need to read the Readme file accompanying the Iris data set.\n",
    "From this we can see that the Iris data is an Iris plants database created in July 1988 by R.A Fisher.\n",
    "\n",
    "More importantly it tells us the data has 150 instances or rows of data about the Iris plants.\n",
    "The attributes are 4 numeric, predictive attributes and the class.\n",
    "The attribute information includes - \n",
    "\n",
    "   1. sepal length in cm\n",
    "   2. sepal width in cm\n",
    "   3. petal length in cm\n",
    "   4. petal width in cm\n",
    "   5. class: \n",
    "      -- Iris Setosa\n",
    "      -- Iris Versicolour\n",
    "      -- Iris Virginica\n"
   ]
  },
  {
   "cell_type": "code",
   "execution_count": 2,
   "id": "3b217dcf",
   "metadata": {},
   "outputs": [],
   "source": [
    "from msilib.schema import Class\n",
    "import numpy as np\n",
    "import pandas as pd\n",
    "import matplotlib.pyplot as plt\n",
    "from scipy import stats\n",
    "from sklearn import tree\n",
    "from sklearn.tree import DecisionTreeClassifier\n",
    "import seaborn as sns"
   ]
  },
  {
   "cell_type": "markdown",
   "id": "aef9c4b2",
   "metadata": {},
   "source": [
    "## Tasks to carry out with Iris Data\n",
    "\n",
    "1) Read in the Data\n",
    "2) Check the data\n",
    "3) data types\n",
    "4) Clean the Data\n",
    "5)\n"
   ]
  },
  {
   "cell_type": "code",
   "execution_count": 3,
   "id": "06be3c29",
   "metadata": {},
   "outputs": [],
   "source": [
    "colnames=['sepal length in cm', 'sepal width in cm', 'petal length in cm', 'petal width in cm', 'class']\n",
    "index=('Iris Setosa', 'Iris Versicolour', 'Iris Virginica')\n",
    "df = pd.read_csv(\"iris.data\",names=colnames)"
   ]
  },
  {
   "cell_type": "code",
   "execution_count": 4,
   "id": "3ffc3396",
   "metadata": {},
   "outputs": [
    {
     "name": "stdout",
     "output_type": "stream",
     "text": [
      "                sepal length in cm                                         \\\n",
      "                             count   mean       std  min    25%  50%  75%   \n",
      "class                                                                       \n",
      "Iris-setosa                   50.0  5.006  0.352490  4.3  4.800  5.0  5.2   \n",
      "Iris-versicolor               50.0  5.936  0.516171  4.9  5.600  5.9  6.3   \n",
      "Iris-virginica                50.0  6.588  0.635880  4.9  6.225  6.5  6.9   \n",
      "\n",
      "                     sepal width in cm         ... petal length in cm       \\\n",
      "                 max             count   mean  ...                75%  max   \n",
      "class                                          ...                           \n",
      "Iris-setosa      5.8              50.0  3.418  ...              1.575  1.9   \n",
      "Iris-versicolor  7.0              50.0  2.770  ...              4.600  5.1   \n",
      "Iris-virginica   7.9              50.0  2.974  ...              5.875  6.9   \n",
      "\n",
      "                petal width in cm                                            \n",
      "                            count   mean       std  min  25%  50%  75%  max  \n",
      "class                                                                        \n",
      "Iris-setosa                  50.0  0.244  0.107210  0.1  0.2  0.2  0.3  0.6  \n",
      "Iris-versicolor              50.0  1.326  0.197753  1.0  1.2  1.3  1.5  1.8  \n",
      "Iris-virginica               50.0  2.026  0.274650  1.4  1.8  2.0  2.3  2.5  \n",
      "\n",
      "[3 rows x 32 columns]\n"
     ]
    }
   ],
   "source": [
    "iris_describe = df.groupby('class').describe()\n",
    "print(iris_describe)"
   ]
  },
  {
   "cell_type": "markdown",
   "id": "1d9eeff1",
   "metadata": {},
   "source": [
    "## Clean the Iris Data\n",
    "\n",
    "Here we need to clean the Iris data which means we need to remove any duplicate data or rows that are missing information"
   ]
  },
  {
   "cell_type": "code",
   "execution_count": null,
   "id": "4adfc074",
   "metadata": {},
   "outputs": [],
   "source": []
  }
 ],
 "metadata": {
  "kernelspec": {
   "display_name": "Python 3 (ipykernel)",
   "language": "python",
   "name": "python3"
  },
  "language_info": {
   "codemirror_mode": {
    "name": "ipython",
    "version": 3
   },
   "file_extension": ".py",
   "mimetype": "text/x-python",
   "name": "python",
   "nbconvert_exporter": "python",
   "pygments_lexer": "ipython3",
   "version": "3.9.7"
  }
 },
 "nbformat": 4,
 "nbformat_minor": 5
}
